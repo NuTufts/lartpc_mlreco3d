{
 "cells": [
  {
   "cell_type": "code",
   "execution_count": null,
   "id": "16f78895",
   "metadata": {},
   "outputs": [],
   "source": [
    "import os\n",
    "SOFTWARE_DIR = '/home/twongjirad/working/larbys/lartpc_mlreco3d/'\n",
    "DATA_DIR = os.environ.get('DATA_DIR')\n",
    "print(SOFTWARE_DIR)\n",
    "%load_ext autoreload\n",
    "%autoreload 2"
   ]
  },
  {
   "cell_type": "code",
   "execution_count": null,
   "id": "9a0d1078",
   "metadata": {},
   "outputs": [],
   "source": [
    "import sys, os\n",
    "# set software directory\n",
    "sys.path.insert(0, SOFTWARE_DIR)"
   ]
  },
  {
   "cell_type": "code",
   "execution_count": null,
   "id": "a039f84e",
   "metadata": {},
   "outputs": [],
   "source": [
    "import numpy as np\n",
    "import yaml\n",
    "import torch\n",
    "import plotly\n",
    "import plotly.graph_objs as go\n",
    "from plotly.offline import iplot, init_notebook_mode\n",
    "init_notebook_mode(connected=False)\n",
    "\n",
    "from mlreco.visualization import scatter_points, plotly_layout3d\n",
    "from mlreco.visualization.gnn import scatter_clusters, network_topology, network_schematic\n",
    "from mlreco.utils.ppn import uresnet_ppn_type_point_selector\n",
    "from mlreco.utils.cluster.dense_cluster import fit_predict_np, gaussian_kernel\n",
    "from mlreco.main_funcs import process_config, prepare\n",
    "from mlreco.utils.gnn.cluster import get_cluster_label\n",
    "from mlreco.utils.deghosting import adapt_labels_numpy as adapt_labels\n",
    "from mlreco.visualization.gnn import network_topology\n",
    "\n",
    "from larcv import larcv"
   ]
  },
  {
   "cell_type": "code",
   "execution_count": null,
   "id": "ffba01fe",
   "metadata": {
    "scrolled": false
   },
   "outputs": [],
   "source": [
    "cfg=yaml.load(open('%s/config/train_ubmlreco_uresnet_ppn.cfg' % (SOFTWARE_DIR), 'r').read(),Loader=yaml.Loader)\n",
    "# pre-process configuration (checks + certain non-specified default settings)\n",
    "process_config(cfg)\n",
    "# prepare function configures necessary \"handlers\"\n",
    "hs=prepare(cfg)"
   ]
  },
  {
   "cell_type": "code",
   "execution_count": null,
   "id": "73a58cdd",
   "metadata": {},
   "outputs": [],
   "source": [
    "# Call forward to run the net, store the output in \"res\"\n",
    "data, output = hs.trainer.forward(hs.data_io_iter)"
   ]
  },
  {
   "cell_type": "code",
   "execution_count": null,
   "id": "b65cf3b5",
   "metadata": {},
   "outputs": [],
   "source": [
    "entry = 0\n",
    "print(data.keys())\n",
    "print(output.keys())"
   ]
  },
  {
   "cell_type": "code",
   "execution_count": null,
   "id": "5d992924",
   "metadata": {},
   "outputs": [],
   "source": [
    "input_data = data['input_data'][entry]\n",
    "segment_label = data['segment_label'][entry][:, -1]\n",
    "\n",
    "ghost_mask = output['ghost'][entry].argmax(axis=1) == 0\n",
    "segment_pred = output['segmentation'][entry].argmax(axis=1)"
   ]
  },
  {
   "cell_type": "code",
   "execution_count": null,
   "id": "c92e8fda",
   "metadata": {
    "scrolled": false
   },
   "outputs": [],
   "source": [
    "trace = []\n",
    "\n",
    "edep = input_data[segment_label < 5]\n",
    "\n",
    "trace+= scatter_points(input_data[segment_label < 5],\n",
    "                       markersize=0.5,\n",
    "                       #color=segment_label[segment_label < 5], \n",
    "                       color=\"rgb(255,0,255,0.2)\", \n",
    "                       cmin=0, cmax=10, \n",
    "                       colorscale=plotly.colors.qualitative.D3)\n",
    "trace[-1].name = 'True semantic labels (true no-ghost mask)'\n",
    "\n",
    "trace+= scatter_points(input_data[ghost_mask],\n",
    "                       markersize=2,color=segment_pred[ghost_mask], \n",
    "                       cmin=0, cmax=10, \n",
    "                       colorscale=plotly.colors.qualitative.D3)\n",
    "trace[-1].name = 'Predicted semantic labels (predicted no-ghost mask)'\n",
    "\n",
    "fig = go.Figure(data=trace,layout=plotly_layout3d())\n",
    "fig.update_layout(legend=dict(x=1.0, y=0.8))\n",
    "\n",
    "iplot(fig)"
   ]
  },
  {
   "cell_type": "code",
   "execution_count": null,
   "id": "31599059",
   "metadata": {},
   "outputs": [],
   "source": [
    "# Semantic error and correctness\n",
    "\n",
    "trace = []\n",
    "\n",
    "# pick out true deposits only\n",
    "edep = input_data[segment_label < 5]\n",
    "seg_label = segment_label[ segment_label<5 ]\n",
    "seg_pred = segment_pred[segment_label<5]\n",
    "correct = seg_pred==seg_label\n",
    "wrong   = seg_pred!=seg_label\n",
    "print(\"correct: \",correct.sum())\n",
    "print(\"incorrect: \",wrong.sum())\n",
    "\n",
    "trace+= scatter_points(edep[ correct ],\n",
    "                       markersize=0.5,\n",
    "                       #color=segment_label[segment_label < 5], \n",
    "                       color=\"rgb(0,0,255,0.2)\", \n",
    "                       cmin=0, cmax=10, \n",
    "                       colorscale=plotly.colors.qualitative.D3)\n",
    "trace[-1].name = 'Correct prediction'\n",
    "\n",
    "trace+= scatter_points(edep[ wrong ],\n",
    "                       markersize=0.5,\n",
    "                       #color=segment_label[segment_label < 5], \n",
    "                       color=\"rgb(255,0,0,0.2)\", \n",
    "                       cmin=0, cmax=10, \n",
    "                       colorscale=plotly.colors.qualitative.D3)\n",
    "trace[-1].name = 'Wrong prediction'\n",
    "\n",
    "fig = go.Figure(data=trace,layout=plotly_layout3d())\n",
    "fig.update_layout(legend=dict(x=1.0, y=0.8))\n",
    "\n",
    "iplot(fig)\n"
   ]
  },
  {
   "cell_type": "code",
   "execution_count": null,
   "id": "77f7729d",
   "metadata": {},
   "outputs": [],
   "source": [
    "# Track predictions only\n",
    "\n",
    "\n",
    "trace = []\n",
    "\n",
    "# pick out true deposits only\n",
    "seg_label_track = (segment_label>1) & (segment_label<5)\n",
    "print(\"num track labels: \",seg_label_track.sum())\n",
    "seg_pred_track = (segment_pred>1) & (segment_pred<5) & ghost_mask\n",
    "print(\"num track predct: \",segment_pred.sum())\n",
    "\n",
    "trace+= scatter_points(input_data[ seg_label_track ],\n",
    "                       markersize=0.5,\n",
    "                       #color=segment_label[segment_label < 5], \n",
    "                       color=\"rgb(255,0,255,0.2)\", \n",
    "                       cmin=0, cmax=10, \n",
    "                       colorscale=plotly.colors.qualitative.D3)\n",
    "trace[-1].name = 'Track label'\n",
    "\n",
    "trace+= scatter_points(input_data[ seg_pred_track ],\n",
    "                       markersize=0.5,\n",
    "                       #color=segment_label[segment_label < 5], \n",
    "                       color=\"rgb(0,0,255,0.7)\", \n",
    "                       cmin=0, cmax=10, \n",
    "                       colorscale=plotly.colors.qualitative.D3)\n",
    "trace[-1].name = 'Track prediction'\n",
    "\n",
    "\n",
    "fig = go.Figure(data=trace,layout=plotly_layout3d())\n",
    "fig.update_layout(legend=dict(x=1.0, y=0.8))\n",
    "\n",
    "iplot(fig)\n"
   ]
  },
  {
   "cell_type": "code",
   "execution_count": null,
   "id": "b3d09f0e",
   "metadata": {},
   "outputs": [],
   "source": [
    "points = output['points'][entry]\n",
    "print(\"points: \",points.shape)\n",
    "# 0,1,2: pixel prediction\n",
    "# 3,4,5,6,7: class score\n",
    "# 8,9: final score\n",
    "# print(points[:20,:])"
   ]
  },
  {
   "cell_type": "code",
   "execution_count": null,
   "id": "9042c394",
   "metadata": {},
   "outputs": [],
   "source": [
    "# RAW PPN INFORMATION FROM \"POINTS\" output\n",
    "\n",
    "import scipy.special\n",
    "points = output['points'][entry]\n",
    "ppn_layers_logits_v = output['ppn_layers'][entry]\n",
    "print(\"input: \",input_data.shape)\n",
    "print(\"points: \",points.shape)\n",
    "for x in ppn_layers_logits_v:\n",
    "    print(\"ppn_layers_logits: \",x.shape)\n",
    "pred_shift  = points[:,0:3]\n",
    "ppn_kp      = input_data[:,1:4] + pred_shift\n",
    "ppn_score   = points[:,-1]\n",
    "type_logits = points[:,3:3+5]\n",
    "type_score  = scipy.special.softmax(type_logits,axis=1)\n",
    "\n",
    "input_noghost  = input_data[ghost_mask]\n",
    "ppn_noghost    = ppn_score[ghost_mask]\n",
    "ppn_kp_noghost = ppn_kp[ghost_mask]\n",
    "type_score    = type_score[ghost_mask]\n",
    "type_class    = np.argmax(type_score,axis=1)\n",
    "print(\"type classes: \",np.unique(type_class))\n",
    "\n",
    "trace = []\n",
    "\n",
    "trace+= scatter_points(input_noghost,\n",
    "                       markersize=0.5,color=ppn_noghost, \n",
    "                       cmin=0, cmax=1.0, \n",
    "                       colorscale='Viridis')\n",
    "trace[-1].name = 'PPN Last Layer Score'\n",
    "\n",
    "trace+= scatter_points(ppn_kp_noghost[ppn_noghost>0.7],\n",
    "                       markersize=3,color=type_class[ppn_noghost>0.7], \n",
    "                       cmin=0, cmax=10, \n",
    "                       colorscale=plotly.colors.qualitative.D3)\n",
    "trace[-1].name = 'PPN Max Type'\n",
    "\n",
    "fig = go.Figure(data=trace,layout=plotly_layout3d())\n",
    "fig.update_layout(legend=dict(x=1.0, y=0.8))\n",
    "\n",
    "iplot(fig)\n"
   ]
  },
  {
   "cell_type": "code",
   "execution_count": null,
   "id": "bea4a410",
   "metadata": {},
   "outputs": [],
   "source": [
    "from mlreco.utils.ppn import uresnet_ppn_type_point_selector\n",
    "ppn = uresnet_ppn_type_point_selector(data['input_data'][entry], output, entry=entry,\n",
    "                                      score_threshold=0.8, type_threshold=2,\n",
    "                                      enforce_type=False,\n",
    "                                      scale_index=-1)\n",
    "\n",
    "print(ppn.shape)\n",
    "\n",
    "ppn_voxels = ppn[:, 1:4]\n",
    "ppn_score = ppn[:, 5]\n",
    "ppn_type = ppn[:, 12]\n",
    "ppn_endpoints = np.argmax(ppn[:, 13:], axis=1)\n"
   ]
  },
  {
   "cell_type": "code",
   "execution_count": null,
   "id": "1bd43d47",
   "metadata": {},
   "outputs": [],
   "source": [
    "delta_label = 3\n",
    "is_not_delta = ppn[:, 7 + delta_label] < 0.5\n",
    "ppn_voxels = ppn_voxels[is_not_delta]\n",
    "ppn_score = ppn_score[is_not_delta]\n",
    "ppn_type = ppn_type[is_not_delta]\n",
    "ppn_endpoints = ppn_endpoints[is_not_delta]"
   ]
  },
  {
   "cell_type": "code",
   "execution_count": null,
   "id": "c7ff0f9f",
   "metadata": {},
   "outputs": [],
   "source": [
    "trace = []\n",
    "\n",
    "PLOT_TRUEPTS = False\n",
    "\n",
    "trace+= scatter_points(input_data[ghost_mask],markersize=0.5,\n",
    "                       color=segment_pred[ghost_mask], \n",
    "                       cmin=0, cmax=10, \n",
    "                       colorscale=plotly.colors.qualitative.D3)\n",
    "trace[-1].name = 'Predicted semantic labels (predicted no-ghost mask)'\n",
    "\n",
    "trace += scatter_points(ppn_voxels, markersize=5, color=ppn_type, cmin=0, cmax=10, \n",
    "                        colorscale=plotly.colors.qualitative.D3, hovertext=ppn_score)\n",
    "trace[-1].name = \"PPN predictions (w/ type prediction)\"\n",
    "\n",
    "trace += scatter_points(ppn_voxels[ppn_type == 1], markersize=5, color=ppn_endpoints[ppn_type == 1], \n",
    "                        cmin=0, cmax=10, \n",
    "                        colorscale=plotly.colors.qualitative.D3, \n",
    "                        hovertext=ppn_endpoints)\n",
    "trace[-1].name = \"PPN predictions (start/end)\"\n",
    "\n",
    "if PLOT_TRUEPTS:\n",
    "    trace += scatter_points(data['particles_label'][entry], markersize=2, \n",
    "                       color=data['particles_label'][entry][:, 4], cmin=0, cmax=10, \n",
    "                       colorscale=plotly.colors.qualitative.D3)\n",
    "    trace[-1].name = \"True point labels\"\n",
    "\n",
    "    trace += scatter_points(data['particles_label'][entry], markersize=2, \n",
    "                       color=data['particles_label'][entry][:, 6], cmin=0, cmax=10, \n",
    "                       colorscale=plotly.colors.qualitative.D3)\n",
    "    trace[-1].name = \"True point labels (start/end)\"\n",
    "\n",
    "fig = go.Figure(data=trace,layout=plotly_layout3d())\n",
    "fig.update_layout(legend=dict(x=1.0, y=0.8))\n",
    "\n",
    "iplot(fig)\n"
   ]
  },
  {
   "cell_type": "code",
   "execution_count": null,
   "id": "318b5547",
   "metadata": {},
   "outputs": [],
   "source": []
  },
  {
   "cell_type": "code",
   "execution_count": null,
   "id": "02b13fb5",
   "metadata": {},
   "outputs": [],
   "source": []
  }
 ],
 "metadata": {
  "kernelspec": {
   "display_name": "Python 3 (ipykernel)",
   "language": "python",
   "name": "python3"
  },
  "language_info": {
   "codemirror_mode": {
    "name": "ipython",
    "version": 3
   },
   "file_extension": ".py",
   "mimetype": "text/x-python",
   "name": "python",
   "nbconvert_exporter": "python",
   "pygments_lexer": "ipython3",
   "version": "3.9.7"
  }
 },
 "nbformat": 4,
 "nbformat_minor": 5
}
